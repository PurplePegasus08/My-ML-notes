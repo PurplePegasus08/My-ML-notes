{
 "cells": [
  {
   "cell_type": "code",
   "execution_count": 1,
   "metadata": {},
   "outputs": [],
   "source": [
    "import numpy as np"
   ]
  },
  {
   "cell_type": "code",
   "execution_count": 23,
   "metadata": {},
   "outputs": [
    {
     "data": {
      "text/plain": [
       "array([28.7893  , 34.973328, 45.627567, 70.938805, 50.767567, 54.98993 ,\n",
       "       51.118908, 57.21281 , 42.341457, 35.970806, 32.013454, 25.485973,\n",
       "       51.143726, 21.57291 , 68.62337 , 59.101494, 67.43176 , 32.23359 ,\n",
       "       20.058512, 57.070473, 31.992432, 24.431316, 35.216633, 26.000616,\n",
       "       60.632725], dtype=float32)"
      ]
     },
     "execution_count": 23,
     "metadata": {},
     "output_type": "execute_result"
    }
   ],
   "source": [
    "weight = np.random.uniform(20,80,25 ).astype('float32')\n",
    "weight"
   ]
  },
  {
   "cell_type": "code",
   "execution_count": 24,
   "metadata": {},
   "outputs": [
    {
     "name": "stdout",
     "output_type": "stream",
     "text": [
      "float32\n"
     ]
    }
   ],
   "source": [
    "height = np.random.randint(0,180,25)\n",
    "height = height.astype('float32')\n",
    "print(height.dtype)"
   ]
  },
  {
   "cell_type": "code",
   "execution_count": 25,
   "metadata": {},
   "outputs": [
    {
     "data": {
      "text/plain": [
       "25"
      ]
     },
     "execution_count": 25,
     "metadata": {},
     "output_type": "execute_result"
    }
   ],
   "source": [
    "age = np.random.uniform(20,80,25).astype('int32')\n",
    "len(age)"
   ]
  },
  {
   "cell_type": "code",
   "execution_count": 26,
   "metadata": {},
   "outputs": [
    {
     "data": {
      "text/plain": [
       "['Novah Chandler',\n",
       " 'Royal Magana',\n",
       " 'Amaris Vasquez',\n",
       " 'Rowan Jensen',\n",
       " 'Jane Crosby',\n",
       " 'Tristen Matthews',\n",
       " 'Lila Andrews',\n",
       " 'Lukas Sheppard',\n",
       " 'Veda Torres',\n",
       " 'Jayden Blevins',\n",
       " 'Aila Clark',\n",
       " 'John Sanford',\n",
       " 'Emerald Short',\n",
       " 'Hezekiah Evans',\n",
       " 'Eliana Murray',\n",
       " 'Ashton Barry',\n",
       " 'Waverly Dorsey',\n",
       " 'Enoch Ho',\n",
       " 'Calliope Abbott',\n",
       " 'Kohen Hoffman',\n",
       " 'Aspen Hail',\n",
       " 'Hector Griffith',\n",
       " 'Alicia Adams',\n",
       " 'Hudson Holland',\n",
       " 'Mariah Stein']"
      ]
     },
     "execution_count": 26,
     "metadata": {},
     "output_type": "execute_result"
    }
   ],
   "source": [
    "Names = [\"\"\"Novah Chandler\n",
    "Royal Magana\n",
    "Amaris Vasquez\n",
    "Rowan Jensen\n",
    "Jane Crosby\n",
    "Tristen Matthews\n",
    "Lila Andrews\n",
    "Lukas Sheppard\n",
    "Veda Torres\n",
    "Jayden Blevins\n",
    "Aila Clark\n",
    "John Sanford\n",
    "Emerald Short\n",
    "Hezekiah Evans\n",
    "Eliana Murray\n",
    "Ashton Barry\n",
    "Waverly Dorsey\n",
    "Enoch Ho\n",
    "Calliope Abbott\n",
    "Kohen Hoffman\n",
    "Aspen Hail\n",
    "Hector Griffith\n",
    "Alicia Adams\n",
    "Hudson Holland\n",
    "Mariah Stein\n",
    "\"\"\"]\n",
    "\n",
    "# Split the names into a list\n",
    "Names = Names[0].strip().split('\\n')\n",
    "\n",
    "# Remove any empty strings\n",
    "Names = [Names.strip() for Names in Names if Names.strip()]\n",
    "\n",
    "# Print the result\n",
    "\n",
    "Names\n",
    "\n",
    "    \n"
   ]
  },
  {
   "cell_type": "code",
   "execution_count": 27,
   "metadata": {},
   "outputs": [
    {
     "data": {
      "text/plain": [
       "['Smith',\n",
       " 'Johnson',\n",
       " 'Williams',\n",
       " 'Brown',\n",
       " 'Jones',\n",
       " 'Garcia',\n",
       " 'Miller',\n",
       " 'Davis',\n",
       " 'Rodriguez',\n",
       " 'Martinez',\n",
       " 'Hernandez',\n",
       " 'Lopez',\n",
       " 'Gonzalez',\n",
       " 'Wilson',\n",
       " 'Anderson',\n",
       " 'Thomas',\n",
       " 'Taylor',\n",
       " 'Moore',\n",
       " 'Jackson',\n",
       " 'Martin',\n",
       " 'Lee',\n",
       " 'Perez',\n",
       " 'Thompson',\n",
       " 'White',\n",
       " 'Harris']"
      ]
     },
     "execution_count": 27,
     "metadata": {},
     "output_type": "execute_result"
    }
   ],
   "source": [
    "Surname = [\"\"\"Smith,\n",
    "Johnson,\n",
    "Williams,\n",
    "Brown,\n",
    "Jones,\n",
    "Garcia,\n",
    "Miller,\n",
    "Davis,\n",
    "Rodriguez,\n",
    "Martinez,\n",
    "Hernandez,\n",
    "Lopez,\n",
    "Gonzalez,\n",
    "Wilson,\n",
    "Anderson,\n",
    "Thomas,\n",
    "Taylor,\n",
    "Moore,\n",
    "Jackson,\n",
    "Martin,\n",
    "Lee,\n",
    "Perez,\n",
    "Thompson,\n",
    "White,\n",
    "Harris\"\"\"]\n",
    "\n",
    "surname = Surname[0].strip().split(',')\n",
    "\n",
    "surname = [surname.strip() for surname in surname]\n",
    "\n",
    "\n",
    "surname\n"
   ]
  },
  {
   "cell_type": "code",
   "execution_count": 28,
   "metadata": {},
   "outputs": [],
   "source": [
    "df = pd.DataFrame({'Names': Names,\n",
    "                   'Surname':surname,\n",
    "                   'Age':age,\n",
    "                  'Height':height,\n",
    "                  'Weight':weight})"
   ]
  },
  {
   "cell_type": "code",
   "execution_count": 29,
   "metadata": {},
   "outputs": [
    {
     "name": "stdout",
     "output_type": "stream",
     "text": [
      "25\n"
     ]
    }
   ],
   "source": [
    "def lengthcheck(list):\n",
    "    print(len(list))\n",
    "    \n",
    "\n",
    "lengthcheck(weight)"
   ]
  },
  {
   "cell_type": "code",
   "execution_count": 30,
   "metadata": {},
   "outputs": [],
   "source": [
    "df['Weight']= df['Weight'].astype('int32')"
   ]
  },
  {
   "cell_type": "code",
   "execution_count": 31,
   "metadata": {},
   "outputs": [],
   "source": [
    "df['First Name'] = df['Names'].apply(lambda x: x.split()[0])\n",
    "\n",
    "# Create the 'Full Name' column by combining the 'First Name' and 'Surname' columns\n",
    "df['Full Name'] = df['First Name'] + ' ' + df['Surname']"
   ]
  },
  {
   "cell_type": "code",
   "execution_count": 32,
   "metadata": {},
   "outputs": [],
   "source": [
    "columns = ['Names','Surname']\n",
    "df.drop(columns=columns,inplace=True)\n"
   ]
  },
  {
   "cell_type": "code",
   "execution_count": 33,
   "metadata": {},
   "outputs": [],
   "source": [
    "df.drop(columns='First Name',inplace=True)"
   ]
  },
  {
   "cell_type": "code",
   "execution_count": 46,
   "metadata": {},
   "outputs": [
    {
     "data": {
      "text/html": [
       "<div>\n",
       "<style scoped>\n",
       "    .dataframe tbody tr th:only-of-type {\n",
       "        vertical-align: middle;\n",
       "    }\n",
       "\n",
       "    .dataframe tbody tr th {\n",
       "        vertical-align: top;\n",
       "    }\n",
       "\n",
       "    .dataframe thead th {\n",
       "        text-align: right;\n",
       "    }\n",
       "</style>\n",
       "<table border=\"1\" class=\"dataframe\">\n",
       "  <thead>\n",
       "    <tr style=\"text-align: right;\">\n",
       "      <th></th>\n",
       "      <th>Full Name</th>\n",
       "      <th>Age</th>\n",
       "      <th>Height</th>\n",
       "      <th>Weight</th>\n",
       "    </tr>\n",
       "  </thead>\n",
       "  <tbody>\n",
       "    <tr>\n",
       "      <th>0</th>\n",
       "      <td>Novah Smith</td>\n",
       "      <td>58</td>\n",
       "      <td>65.0</td>\n",
       "      <td>28</td>\n",
       "    </tr>\n",
       "    <tr>\n",
       "      <th>1</th>\n",
       "      <td>Royal Johnson</td>\n",
       "      <td>74</td>\n",
       "      <td>97.0</td>\n",
       "      <td>34</td>\n",
       "    </tr>\n",
       "    <tr>\n",
       "      <th>2</th>\n",
       "      <td>Amaris Williams</td>\n",
       "      <td>22</td>\n",
       "      <td>76.0</td>\n",
       "      <td>45</td>\n",
       "    </tr>\n",
       "    <tr>\n",
       "      <th>3</th>\n",
       "      <td>Rowan Brown</td>\n",
       "      <td>60</td>\n",
       "      <td>134.0</td>\n",
       "      <td>70</td>\n",
       "    </tr>\n",
       "    <tr>\n",
       "      <th>4</th>\n",
       "      <td>Jane Jones</td>\n",
       "      <td>35</td>\n",
       "      <td>64.0</td>\n",
       "      <td>50</td>\n",
       "    </tr>\n",
       "    <tr>\n",
       "      <th>5</th>\n",
       "      <td>Tristen Garcia</td>\n",
       "      <td>54</td>\n",
       "      <td>23.0</td>\n",
       "      <td>54</td>\n",
       "    </tr>\n",
       "    <tr>\n",
       "      <th>6</th>\n",
       "      <td>Lila Miller</td>\n",
       "      <td>33</td>\n",
       "      <td>115.0</td>\n",
       "      <td>51</td>\n",
       "    </tr>\n",
       "    <tr>\n",
       "      <th>7</th>\n",
       "      <td>Lukas Davis</td>\n",
       "      <td>45</td>\n",
       "      <td>132.0</td>\n",
       "      <td>57</td>\n",
       "    </tr>\n",
       "    <tr>\n",
       "      <th>8</th>\n",
       "      <td>Veda Rodriguez</td>\n",
       "      <td>76</td>\n",
       "      <td>130.0</td>\n",
       "      <td>42</td>\n",
       "    </tr>\n",
       "    <tr>\n",
       "      <th>9</th>\n",
       "      <td>Jayden Martinez</td>\n",
       "      <td>63</td>\n",
       "      <td>170.0</td>\n",
       "      <td>35</td>\n",
       "    </tr>\n",
       "    <tr>\n",
       "      <th>10</th>\n",
       "      <td>Aila Hernandez</td>\n",
       "      <td>55</td>\n",
       "      <td>145.0</td>\n",
       "      <td>32</td>\n",
       "    </tr>\n",
       "    <tr>\n",
       "      <th>11</th>\n",
       "      <td>John Lopez</td>\n",
       "      <td>56</td>\n",
       "      <td>164.0</td>\n",
       "      <td>25</td>\n",
       "    </tr>\n",
       "    <tr>\n",
       "      <th>12</th>\n",
       "      <td>Emerald Gonzalez</td>\n",
       "      <td>37</td>\n",
       "      <td>6.0</td>\n",
       "      <td>51</td>\n",
       "    </tr>\n",
       "    <tr>\n",
       "      <th>13</th>\n",
       "      <td>Hezekiah Wilson</td>\n",
       "      <td>30</td>\n",
       "      <td>162.0</td>\n",
       "      <td>21</td>\n",
       "    </tr>\n",
       "    <tr>\n",
       "      <th>14</th>\n",
       "      <td>Eliana Anderson</td>\n",
       "      <td>38</td>\n",
       "      <td>175.0</td>\n",
       "      <td>68</td>\n",
       "    </tr>\n",
       "    <tr>\n",
       "      <th>15</th>\n",
       "      <td>Ashton Thomas</td>\n",
       "      <td>49</td>\n",
       "      <td>176.0</td>\n",
       "      <td>59</td>\n",
       "    </tr>\n",
       "    <tr>\n",
       "      <th>16</th>\n",
       "      <td>Waverly Taylor</td>\n",
       "      <td>21</td>\n",
       "      <td>118.0</td>\n",
       "      <td>67</td>\n",
       "    </tr>\n",
       "    <tr>\n",
       "      <th>17</th>\n",
       "      <td>Enoch Moore</td>\n",
       "      <td>42</td>\n",
       "      <td>47.0</td>\n",
       "      <td>32</td>\n",
       "    </tr>\n",
       "    <tr>\n",
       "      <th>18</th>\n",
       "      <td>Calliope Jackson</td>\n",
       "      <td>51</td>\n",
       "      <td>43.0</td>\n",
       "      <td>20</td>\n",
       "    </tr>\n",
       "    <tr>\n",
       "      <th>19</th>\n",
       "      <td>Kohen Martin</td>\n",
       "      <td>22</td>\n",
       "      <td>54.0</td>\n",
       "      <td>57</td>\n",
       "    </tr>\n",
       "    <tr>\n",
       "      <th>20</th>\n",
       "      <td>Aspen Lee</td>\n",
       "      <td>27</td>\n",
       "      <td>112.0</td>\n",
       "      <td>31</td>\n",
       "    </tr>\n",
       "    <tr>\n",
       "      <th>21</th>\n",
       "      <td>Hector Perez</td>\n",
       "      <td>69</td>\n",
       "      <td>162.0</td>\n",
       "      <td>24</td>\n",
       "    </tr>\n",
       "    <tr>\n",
       "      <th>22</th>\n",
       "      <td>Alicia Thompson</td>\n",
       "      <td>21</td>\n",
       "      <td>124.0</td>\n",
       "      <td>35</td>\n",
       "    </tr>\n",
       "    <tr>\n",
       "      <th>23</th>\n",
       "      <td>Hudson White</td>\n",
       "      <td>36</td>\n",
       "      <td>54.0</td>\n",
       "      <td>26</td>\n",
       "    </tr>\n",
       "    <tr>\n",
       "      <th>24</th>\n",
       "      <td>Mariah Harris</td>\n",
       "      <td>38</td>\n",
       "      <td>17.0</td>\n",
       "      <td>60</td>\n",
       "    </tr>\n",
       "  </tbody>\n",
       "</table>\n",
       "</div>"
      ],
      "text/plain": [
       "           Full Name  Age  Height  Weight\n",
       "0        Novah Smith   58    65.0      28\n",
       "1      Royal Johnson   74    97.0      34\n",
       "2    Amaris Williams   22    76.0      45\n",
       "3        Rowan Brown   60   134.0      70\n",
       "4         Jane Jones   35    64.0      50\n",
       "5     Tristen Garcia   54    23.0      54\n",
       "6        Lila Miller   33   115.0      51\n",
       "7        Lukas Davis   45   132.0      57\n",
       "8     Veda Rodriguez   76   130.0      42\n",
       "9    Jayden Martinez   63   170.0      35\n",
       "10    Aila Hernandez   55   145.0      32\n",
       "11        John Lopez   56   164.0      25\n",
       "12  Emerald Gonzalez   37     6.0      51\n",
       "13   Hezekiah Wilson   30   162.0      21\n",
       "14   Eliana Anderson   38   175.0      68\n",
       "15     Ashton Thomas   49   176.0      59\n",
       "16    Waverly Taylor   21   118.0      67\n",
       "17       Enoch Moore   42    47.0      32\n",
       "18  Calliope Jackson   51    43.0      20\n",
       "19      Kohen Martin   22    54.0      57\n",
       "20         Aspen Lee   27   112.0      31\n",
       "21      Hector Perez   69   162.0      24\n",
       "22   Alicia Thompson   21   124.0      35\n",
       "23      Hudson White   36    54.0      26\n",
       "24     Mariah Harris   38    17.0      60"
      ]
     },
     "execution_count": 46,
     "metadata": {},
     "output_type": "execute_result"
    }
   ],
   "source": [
    "df"
   ]
  },
  {
   "cell_type": "code",
   "execution_count": 36,
   "metadata": {},
   "outputs": [],
   "source": [
    "cols = ['Full Name'] + [col for col in df.columns if col != 'Full Name']\n",
    "df = df[cols]"
   ]
  },
  {
   "cell_type": "markdown",
   "metadata": {},
   "source": [
    "\n",
    "### to call attribute we don't need () and to call methods we need ()"
   ]
  },
  {
   "cell_type": "code",
   "execution_count": null,
   "metadata": {},
   "outputs": [
    {
     "data": {
      "text/plain": [
       "1074"
      ]
     },
     "execution_count": 64,
     "metadata": {},
     "output_type": "execute_result"
    }
   ],
   "source": [
    "def is_even(num):\n",
    "    if num %2 ==0:\n",
    "         print(\"even\")\n",
    "    else:\n",
    "        print(\"odd\")\n",
    "        \n",
    "x = is_even(4)\n",
    "print(x)\n"
   ]
  },
  {
   "cell_type": "code",
   "execution_count": null,
   "metadata": {},
   "outputs": [
    {
     "ename": "NameError",
     "evalue": "name 'dtype' is not defined",
     "output_type": "error",
     "traceback": [
      "\u001b[1;31m---------------------------------------------------------------------------\u001b[0m",
      "\u001b[1;31mNameError\u001b[0m                                 Traceback (most recent call last)",
      "Cell \u001b[1;32mIn[8], line 2\u001b[0m\n\u001b[0;32m      1\u001b[0m arr \u001b[38;5;241m=\u001b[39m np\u001b[38;5;241m.\u001b[39marray([\u001b[38;5;241m123\u001b[39m,\u001b[38;5;241m546\u001b[39m,\u001b[38;5;241m76\u001b[39m],dtype\u001b[38;5;241m=\u001b[39m\u001b[38;5;124m'\u001b[39m\u001b[38;5;124mint32\u001b[39m\u001b[38;5;124m'\u001b[39m)\n\u001b[1;32m----> 2\u001b[0m dtype(arr)\n",
      "\u001b[1;31mNameError\u001b[0m: name 'dtype' is not defined"
     ]
    }
   ],
   "source": []
  },
  {
   "cell_type": "code",
   "execution_count": null,
   "metadata": {},
   "outputs": [],
   "source": []
  }
 ],
 "metadata": {
  "kernelspec": {
   "display_name": "base",
   "language": "python",
   "name": "python3"
  },
  "language_info": {
   "codemirror_mode": {
    "name": "ipython",
    "version": 3
   },
   "file_extension": ".py",
   "mimetype": "text/x-python",
   "name": "python",
   "nbconvert_exporter": "python",
   "pygments_lexer": "ipython3",
   "version": "3.12.5"
  }
 },
 "nbformat": 4,
 "nbformat_minor": 2
}
